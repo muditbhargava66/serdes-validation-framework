{
 "cells": [
  {
   "cell_type": "markdown",
   "metadata": {},
   "source": [
    "# 📊 SerDes Eye Diagram Dashboard - Jupyter Notebook\n",
    "\n",
    "This notebook demonstrates the **Jupyter-based SVF Eye Diagram Dashboard** capabilities, providing interactive visualization of:\n",
    "- Captured waveforms\n",
    "- Eye diagrams with automatic measurements\n",
    "- Pass/fail annotations from SVF analyzers\n",
    "- Multi-protocol analysis (USB4, PCIe, Ethernet)\n",
    "\n",
    "## 🚀 Features\n",
    "- **Interactive Controls**: Real-time parameter adjustment\n",
    "- **Multi-Lane Analysis**: Support for multi-lane protocols\n",
    "- **Professional Visualizations**: Publication-ready plots\n",
    "- **SVF Integration**: Direct integration with framework analyzers\n",
    "- **Export Capabilities**: Save results and plots"
   ]
  },
  {
   "cell_type": "markdown",
   "metadata": {},
   "source": [
    "## 📋 Setup and Dependencies"
   ]
  },
  {
   "cell_type": "code",
   "execution_count": null,
   "metadata": {},
   "outputs": [],
   "source": [
    "# Import required libraries\n",
    "import sys\n",
    "import numpy as np\n",
    "from pathlib import Path\n",
    "\n",
    "# Add framework to path\n",
    "sys.path.insert(0, str(Path.cwd().parent / 'src'))\n",
    "\n",
    "# Import SerDes Validation Framework\n",
    "from serdes_validation_framework.jupyter_dashboard import (\n",
    "    EyeDiagramDashboard, \n",
    "    create_dashboard,\n",
    "    DashboardConfig,\n",
    "    check_dashboard_dependencies,\n",
    "    display_requirements\n",
    ")\n",
    "\n",
    "from serdes_validation_framework.jupyter_dashboard import (\n",
    "    WaveformAnalyzer,\n",
    "    InteractivePlotter,\n",
    "    check_interactive_dependencies\n",
    ")\n",
    "\n",
    "# Check dependencies\n",
    "print(\"🔍 Checking Dashboard Dependencies:\")\n",
    "deps = check_dashboard_dependencies()\n",
    "print(\"\\n🎨 Checking Interactive Plot Dependencies:\")\n",
    "interactive_deps = check_interactive_dependencies()"
   ]
  },
  {
   "cell_type": "markdown",
   "metadata": {},
   "source": [
    "## 📊 Generate Sample Data\n",
    "\n",
    "Let's create realistic SerDes signal data for different protocols:"
   ]
  },
  {
   "cell_type": "code",
   "execution_count": null,
   "metadata": {},
   "outputs": [],
   "source": [
    "def generate_usb4_signal(duration=1e-6, sample_rate=40e9, num_lanes=2):\n",
    "    \"\"\"Generate USB4 dual-lane signal data\"\"\"\n",
    "    t = np.linspace(0, duration, int(duration * sample_rate))\n",
    "    \n",
    "    signal_data = {}\n",
    "    for lane in range(num_lanes):\n",
    "        # Generate NRZ-like signal with some realistic characteristics\n",
    "        data_bits = np.random.choice([-1, 1], size=len(t))\n",
    "        \n",
    "        # Add some filtering (bandwidth limitation)\n",
    "        from scipy import signal as scipy_signal\n",
    "        b, a = scipy_signal.butter(4, 0.3)  # Low-pass filter\n",
    "        filtered_signal = scipy_signal.filtfilt(b, a, data_bits)\n",
    "        \n",
    "        # Scale to USB4 voltage levels (±400mV)\n",
    "        usb4_signal = filtered_signal * 0.4\n",
    "        \n",
    "        # Add some noise and jitter\n",
    "        noise = np.random.normal(0, 0.02, len(usb4_signal))\n",
    "        jitter = np.random.normal(0, 0.01, len(usb4_signal))\n",
    "        \n",
    "        # Apply lane-specific offset\n",
    "        lane_offset = lane * 0.05  # Small offset between lanes\n",
    "        \n",
    "        signal_data[f'lane_{lane}'] = usb4_signal + noise + jitter + lane_offset\n",
    "    \n",
    "    return signal_data, t\n",
    "\n",
    "def generate_pcie_signal(duration=1e-6, sample_rate=80e9):\n",
    "    \"\"\"Generate PCIe PAM4 signal data\"\"\"\n",
    "    t = np.linspace(0, duration, int(duration * sample_rate))\n",
    "    \n",
    "    # Generate PAM4 signal (4 levels: -3, -1, +1, +3)\n",
    "    pam4_levels = np.random.choice([-3, -1, 1, 3], size=len(t))\n",
    "    \n",
    "    # Add some filtering\n",
    "    from scipy import signal as scipy_signal\n",
    "    b, a = scipy_signal.butter(4, 0.2)\n",
    "    filtered_signal = scipy_signal.filtfilt(b, a, pam4_levels)\n",
    "    \n",
    "    # Scale to PCIe voltage levels (±600mV)\n",
    "    pcie_signal = filtered_signal * 0.2\n",
    "    \n",
    "    # Add noise\n",
    "    noise = np.random.normal(0, 0.03, len(pcie_signal))\n",
    "    \n",
    "    return {'lane_0': pcie_signal + noise}, t\n",
    "\n",
    "def generate_ethernet_signal(duration=1e-6, sample_rate=224e9):\n",
    "    \"\"\"Generate Ethernet 224G PAM4 signal data\"\"\"\n",
    "    t = np.linspace(0, duration, int(duration * sample_rate))\n",
    "    \n",
    "    # Generate PAM4 signal for high-speed Ethernet\n",
    "    pam4_levels = np.random.choice([-3, -1, 1, 3], size=len(t))\n",
    "    \n",
    "    # Add filtering for high-speed characteristics\n",
    "    from scipy import signal as scipy_signal\n",
    "    b, a = scipy_signal.butter(6, 0.15)\n",
    "    filtered_signal = scipy_signal.filtfilt(b, a, pam4_levels)\n",
    "    \n",
    "    # Scale to Ethernet voltage levels (±400mV)\n",
    "    eth_signal = filtered_signal * 0.15\n",
    "    \n",
    "    # Add noise (higher for high-speed)\n",
    "    noise = np.random.normal(0, 0.025, len(eth_signal))\n",
    "    \n",
    "    return {'lane_0': eth_signal + noise}, t\n",
    "\n",
    "# Generate sample data for all protocols\n",
    "print(\"🔄 Generating sample signal data...\")\n",
    "\n",
    "# USB4 data\n",
    "usb4_signals, usb4_time = generate_usb4_signal(duration=2e-6, num_lanes=2)\n",
    "print(f\"✅ USB4: {len(usb4_signals)} lanes, {len(usb4_time)} samples\")\n",
    "\n",
    "# PCIe data  \n",
    "pcie_signals, pcie_time = generate_pcie_signal(duration=1e-6)\n",
    "print(f\"✅ PCIe: {len(pcie_signals)} lanes, {len(pcie_time)} samples\")\n",
    "\n",
    "# Ethernet data\n",
    "eth_signals, eth_time = generate_ethernet_signal(duration=0.5e-6)\n",
    "print(f\"✅ Ethernet: {len(eth_signals)} lanes, {len(eth_time)} samples\")\n",
    "\n",
    "print(\"\\n🎯 Sample data generation complete!\")"
   ]
  },
  {
   "cell_type": "markdown",
   "metadata": {},
   "source": [
    "## 🎨 Basic Eye Diagram Dashboard\n",
    "\n",
    "Let's start with a basic eye diagram dashboard for USB4:"
   ]
  },
  {
   "cell_type": "code",
   "execution_count": null,
   "metadata": {},
   "outputs": [],
   "source": [
    "# Create USB4 dashboard\n",
    "print(\"🔄 Creating USB4 Eye Diagram Dashboard...\")\n",
    "\n",
    "# Create dashboard with custom configuration\n",
    "config = DashboardConfig(\n",
    "    figure_width=12,\n",
    "    figure_height=8,\n",
    "    show_measurements=True,\n",
    "    show_mask=True,\n",
    "    background_color='white'\n",
    ")\n",
    "\n",
    "usb4_dashboard = create_dashboard(\n",
    "    signal_data=usb4_signals,\n",
    "    sample_rate=40e9,\n",
    "    protocol=\"USB4\",\n",
    "    config=config\n",
    ")\n",
    "\n",
    "print(\"✅ USB4 dashboard created!\")"
   ]
  },
  {
   "cell_type": "code",
   "execution_count": null,
   "metadata": {},
   "outputs": [],
   "source": [
    "# Analyze eye diagram for lane 0\n",
    "print(\"🔍 Analyzing USB4 Lane 0...\")\n",
    "usb4_results = usb4_dashboard.analyze_eye_diagram(lane='lane_0')\n",
    "\n",
    "print(f\"\\n📊 USB4 Lane 0 Analysis Results:\")\n",
    "print(f\"   Eye Height: {usb4_results['eye_height']:.4f} V\")\n",
    "print(f\"   Eye Width: {usb4_results['eye_width']:.4f} UI\")\n",
    "print(f\"   SNR: {usb4_results['snr']:.2f} dB\")\n",
    "print(f\"   Q-Factor: {usb4_results['q_factor']:.2f}\")\n",
    "print(f\"   Status: {'✅ PASS' if usb4_results['passed'] else '❌ FAIL'}\")"
   ]
  },
  {
   "cell_type": "code",
   "execution_count": null,
   "metadata": {},
   "outputs": [],
   "source": [
    "# Create static dashboard for USB4\n",
    "print(\"📊 Creating static USB4 dashboard...\")\n",
    "usb4_dashboard.create_static_dashboard(lane='lane_0')"
   ]
  },
  {
   "cell_type": "markdown",
   "metadata": {},
   "source": [
    "## 🎛️ Interactive Dashboard with Controls\n",
    "\n",
    "Now let's create an interactive dashboard with real-time controls:"
   ]
  },
  {
   "cell_type": "code",
   "execution_count": null,
   "metadata": {},
   "outputs": [],
   "source": [
    "# Create interactive dashboard for USB4\n",
    "print(\"🎛️ Creating interactive USB4 dashboard...\")\n",
    "usb4_dashboard.create_interactive_dashboard()"
   ]
  },
  {
   "cell_type": "markdown",
   "metadata": {},
   "source": [
    "## 🔄 Multi-Protocol Analysis\n",
    "\n",
    "Let's analyze different protocols and compare their characteristics:"
   ]
  },
  {
   "cell_type": "code",
   "execution_count": null,
   "metadata": {},
   "outputs": [],
   "source": [
    "# Create dashboards for all protocols\n",
    "protocols_data = {\n",
    "    'USB4': {'signals': usb4_signals, 'time': usb4_time, 'sample_rate': 40e9},\n",
    "    'PCIe': {'signals': pcie_signals, 'time': pcie_time, 'sample_rate': 80e9},\n",
    "    'Ethernet': {'signals': eth_signals, 'time': eth_time, 'sample_rate': 224e9}\n",
    "}\n",
    "\n",
    "dashboards = {}\n",
    "analysis_results = {}\n",
    "\n",
    "print(\"🔄 Creating dashboards for all protocols...\")\n",
    "\n",
    "for protocol, data in protocols_data.items():\n",
    "    print(f\"\\n📊 Creating {protocol} dashboard...\")\n",
    "    \n",
    "    # Create dashboard\n",
    "    dashboard = create_dashboard(\n",
    "        signal_data=data['signals'],\n",
    "        sample_rate=data['sample_rate'],\n",
    "        protocol=protocol\n",
    "    )\n",
    "    \n",
    "    # Analyze first lane\n",
    "    results = dashboard.analyze_eye_diagram(lane=0)\n",
    "    \n",
    "    dashboards[protocol] = dashboard\n",
    "    analysis_results[protocol] = results\n",
    "    \n",
    "    print(f\"   ✅ {protocol}: Eye Height={results['eye_height']:.4f}V, SNR={results['snr']:.2f}dB, Status={'PASS' if results['passed'] else 'FAIL'}\")\n",
    "\n",
    "print(\"\\n🎯 Multi-protocol analysis complete!\")"
   ]
  },
  {
   "cell_type": "code",
   "execution_count": null,
   "metadata": {},
   "outputs": [],
   "source": [
    "# Create comparison table\n",
    "import pandas as pd\n",
    "\n",
    "comparison_data = []\n",
    "for protocol, results in analysis_results.items():\n",
    "    comparison_data.append({\n",
    "        'Protocol': protocol,\n",
    "        'Eye Height (V)': f\"{results['eye_height']:.4f}\",\n",
    "        'Eye Width (UI)': f\"{results['eye_width']:.4f}\",\n",
    "        'SNR (dB)': f\"{results['snr']:.2f}\",\n",
    "        'Q-Factor': f\"{results['q_factor']:.2f}\",\n",
    "        'Status': '✅ PASS' if results['passed'] else '❌ FAIL'\n",
    "    })\n",
    "\n",
    "comparison_df = pd.DataFrame(comparison_data)\n",
    "print(\"📊 Protocol Comparison Summary:\")\n",
    "print(comparison_df.to_string(index=False))"
   ]
  },
  {
   "cell_type": "markdown",
   "metadata": {},
   "source": [
    "## 📈 Advanced Waveform Analysis\n",
    "\n",
    "Let's use the waveform analyzer for detailed signal analysis:"
   ]
  },
  {
   "cell_type": "code",
   "execution_count": null,
   "metadata": {},
   "outputs": [],
   "source": [
    "# Create waveform analyzer for USB4\n",
    "print(\"🔍 Creating waveform analyzer for USB4...\")\n",
    "\n",
    "waveform_analyzer = WaveformAnalyzer(sample_rate=40e9, protocol=\"USB4\")\n",
    "\n",
    "# Analyze both USB4 lanes\n",
    "for lane_name, signal in usb4_signals.items():\n",
    "    print(f\"\\n📊 Analyzing {lane_name}...\")\n",
    "    \n",
    "    waveform_result = waveform_analyzer.analyze_waveform(\n",
    "        voltage_data=signal,\n",
    "        time_data=usb4_time,\n",
    "        lane=lane_name\n",
    "    )\n",
    "    \n",
    "    print(f\"   Peak-to-Peak: {waveform_result.peak_to_peak:.4f} V\")\n",
    "    print(f\"   SNR: {waveform_result.snr_db:.2f} dB\")\n",
    "    print(f\"   THD: {waveform_result.thd_percent:.2f}%\")\n",
    "    print(f\"   Status: {'✅ PASS' if waveform_result.passed else '❌ FAIL'}\")\n",
    "    \n",
    "    if not waveform_result.passed:\n",
    "        print(f\"   Failures: {', '.join(waveform_result.failure_reasons)}\")\n",
    "\n",
    "print(\"\\n📋 Generating summary report...\")\n",
    "summary_report = waveform_analyzer.get_summary_report()\n",
    "print(summary_report)"
   ]
  },
  {
   "cell_type": "code",
   "execution_count": null,
   "metadata": {},
   "outputs": [],
   "source": [
    "# Create waveform analysis plots\n",
    "print(\"📊 Creating waveform analysis plots...\")\n",
    "waveform_analyzer.create_analysis_plot(lane='lane_0', plot_type='matplotlib')"
   ]
  },
  {
   "cell_type": "markdown",
   "metadata": {},
   "source": [
    "## 🎨 Interactive Plotting Features\n",
    "\n",
    "Let's explore the interactive plotting capabilities:"
   ]
  },
  {
   "cell_type": "code",
   "execution_count": null,
   "metadata": {},
   "outputs": [],
   "source": [
    "# Create interactive plotter\n",
    "from serdes_validation_framework.jupyter_dashboard.interactive_plots import PlotConfig\n",
    "\n",
    "plot_config = PlotConfig(\n",
    "    width=900,\n",
    "    height=600,\n",
    "    theme='plotly_white'\n",
    ")\n",
    "\n",
    "interactive_plotter = InteractivePlotter(config=plot_config)\n",
    "\n",
    "print(\"🎨 Creating interactive eye diagram plot...\")\n",
    "interactive_plotter.create_interactive_eye_plot(\n",
    "    signal_data=usb4_signals,\n",
    "    time_data=usb4_time,\n",
    "    sample_rate=40e9,\n",
    "    protocol=\"USB4\"\n",
    ")"
   ]
  },
  {
   "cell_type": "code",
   "execution_count": null,
   "metadata": {},
   "outputs": [],
   "source": [
    "# Create interactive spectrum analyzer\n",
    "print(\"📊 Creating interactive spectrum analyzer...\")\n",
    "interactive_plotter.create_interactive_spectrum_plot(\n",
    "    signal_data=usb4_signals,\n",
    "    sample_rate=40e9,\n",
    "    protocol=\"USB4\"\n",
    ")"
   ]
  },
  {
   "cell_type": "code",
   "execution_count": null,
   "metadata": {},
   "outputs": [],
   "source": [
    "# Create multi-lane comparison\n",
    "print(\"🔄 Creating multi-lane comparison...\")\n",
    "interactive_plotter.create_multi_lane_comparison(\n",
    "    signal_data=usb4_signals,\n",
    "    time_data=usb4_time,\n",
    "    protocol=\"USB4\"\n",
    ")"
   ]
  },
  {
   "cell_type": "code",
   "execution_count": null,
   "metadata": {},
   "outputs": [],
   "source": [
    "# Create measurement dashboard\n",
    "print(\"📊 Creating measurement dashboard...\")\n",
    "interactive_plotter.create_measurement_dashboard(\n",
    "    analysis_results=analysis_results,\n",
    "    protocol=\"Multi-Protocol\"\n",
    ")"
   ]
  },
  {
   "cell_type": "markdown",
   "metadata": {},
   "source": [
    "## 💾 Export and Save Results\n",
    "\n",
    "Let's export our analysis results for further processing:"
   ]
  },
  {
   "cell_type": "code",
   "execution_count": null,
   "metadata": {},
   "outputs": [],
   "source": [
    "# Export analysis results\n",
    "print(\"💾 Exporting analysis results...\")\n",
    "\n",
    "# Export USB4 results\n",
    "usb4_dashboard.export_results(\"usb4_eye_analysis.json\")\n",
    "\n",
    "# Export PCIe results\n",
    "dashboards['PCIe'].export_results(\"pcie_eye_analysis.json\")\n",
    "\n",
    "# Export Ethernet results\n",
    "dashboards['Ethernet'].export_results(\"ethernet_eye_analysis.json\")\n",
    "\n",
    "print(\"✅ All results exported successfully!\")"
   ]
  },
  {
   "cell_type": "code",
   "execution_count": null,
   "metadata": {},
   "outputs": [],
   "source": [
    "# Create a comprehensive summary\n",
    "print(\"📋 Creating comprehensive analysis summary...\")\n",
    "\n",
    "summary = {\n",
    "    'analysis_timestamp': pd.Timestamp.now().isoformat(),\n",
    "    'protocols_analyzed': list(analysis_results.keys()),\n",
    "    'total_lanes_analyzed': sum(len(data['signals']) for data in protocols_data.values()),\n",
    "    'overall_pass_rate': sum(1 for r in analysis_results.values() if r['passed']) / len(analysis_results),\n",
    "    'protocol_results': {}\n",
    "}\n",
    "\n",
    "for protocol, results in analysis_results.items():\n",
    "    summary['protocol_results'][protocol] = {\n",
    "        'eye_height': results['eye_height'],\n",
    "        'snr_db': results['snr'],\n",
    "        'passed': results['passed'],\n",
    "        'sample_rate_ghz': protocols_data[protocol]['sample_rate'] / 1e9\n",
    "    }\n",
    "\n",
    "# Save summary as JSON\n",
    "import json\n",
    "with open('jupyter_dashboard_analysis_summary.json', 'w') as f:\n",
    "    json.dump(summary, f, indent=2)\n",
    "\n",
    "print(f\"📊 Analysis Summary:\")\n",
    "print(f\"   Protocols Analyzed: {len(analysis_results)}\")\n",
    "print(f\"   Overall Pass Rate: {summary['overall_pass_rate']:.1%}\")\n",
    "print(f\"   Total Lanes: {summary['total_lanes_analyzed']}\")\n",
    "print(f\"   Summary saved to: jupyter_dashboard_analysis_summary.json\")\n",
    "\n",
    "print(\"\\n🎉 Jupyter Dashboard Analysis Complete!\")"
   ]
  },
  {
   "cell_type": "markdown",
   "metadata": {},
   "source": [
    "## 📚 Additional Resources\n",
    "\n",
    "### 🔗 Useful Links\n",
    "- [SerDes Validation Framework Documentation](../docs/)\n",
    "- [Visualization Guide](../docs/guides/visualization.md)\n",
    "- [API Reference](../docs/api/)\n",
    "\n",
    "### 💡 Tips for Advanced Usage\n",
    "1. **Custom Configurations**: Modify `DashboardConfig` for specific visualization needs\n",
    "2. **Protocol Extensions**: Add support for new protocols by extending the analyzer classes\n",
    "3. **Export Options**: Use various export formats (JSON, CSV, PNG) for different workflows\n",
    "4. **Interactive Features**: Leverage Jupyter widgets for real-time parameter adjustment\n",
    "5. **Integration**: Combine with stress testing and other framework features\n",
    "\n",
    "### 🛠️ Troubleshooting\n",
    "- **Missing Dependencies**: Run `check_dashboard_dependencies()` to verify installation\n",
    "- **Performance Issues**: Reduce signal length or number of symbols for faster rendering\n",
    "- **Widget Issues**: Restart kernel if interactive widgets stop responding\n",
    "- **Export Problems**: Check file permissions and available disk space\n",
    "\n",
    "---\n",
    "\n",
    "**🎊 Congratulations! You've successfully used the SerDes Validation Framework Jupyter Dashboard to analyze eye diagrams, visualize waveforms, and generate professional reports for multiple protocols.**"
   ]
  }
 ],
 "metadata": {
  "kernelspec": {
   "display_name": "Python 3",
   "language": "python",
   "name": "python3"
  },
  "language_info": {
   "codemirror_mode": {
    "name": "ipython",
    "version": 3
   },
   "file_extension": ".py",
   "mimetype": "text/x-python",
   "name": "python",
   "nbconvert_exporter": "python",
   "pygments_lexer": "ipython3",
   "version": "3.10.0"
  }
 },
 "nbformat": 4,
 "nbformat_minor": 4
}